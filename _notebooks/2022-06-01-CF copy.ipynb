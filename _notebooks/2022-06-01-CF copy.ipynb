{
  "cells": [
    {
      "cell_type": "markdown",
      "metadata": {},
      "source": [
        "# \"Recommendation systems and Collaborative Filtering\"\n",
        "\n",
        "> \"Demo and Discussion of Collaborative filtering using FastAI\"\n",
        "\n",
        "- toc: true\n",
        "- branch: master\n",
        "- badges: true\n",
        "- comments: true\n",
        "- author: Ashish Gusain\n",
        "- categories: [Recommendation systems, Collaborative filtering, FastAI, Python, Deep learning]"
      ]
    },
    {
      "cell_type": "code",
      "execution_count": 1,
      "metadata": {},
      "outputs": [
        {
          "name": "stderr",
          "output_type": "stream",
          "text": [
            "ERROR: After October 2020 you may experience errors when installing or updating packages. This is because pip will change the way that it resolves dependency conflicts.\n",
            "\n",
            "We recommend you use --use-feature=2020-resolver to test your packages with the new resolver before it becomes the default.\n",
            "\n",
            "uvicorn 0.11.8 requires click==7.*, but you'll have click 8.1.3 which is incompatible.\n",
            "uvicorn 0.11.8 requires websockets==8.*, but you'll have websockets 10.1 which is incompatible.\n",
            "colabcode 0.2.0 requires uvicorn==0.13.1, but you'll have uvicorn 0.11.8 which is incompatible.\n",
            "huggingface-hub 0.7.0 requires packaging>=20.9, but you'll have packaging 20.4 which is incompatible.\n",
            "multiprocess 0.70.13 requires dill>=0.3.5.1, but you'll have dill 0.3.4 which is incompatible.\n",
            "responses 0.18.0 requires urllib3>=1.25.10, but you'll have urllib3 1.24.3 which is incompatible.\n",
            "datasets 2.2.2 requires tqdm>=4.62.1, but you'll have tqdm 4.51.0 which is incompatible.\n"
          ]
        }
      ],
      "source": [
        "#hide\n",
        "!pip install -Uqq fastbook\n",
        "import fastbook\n",
        "fastbook.setup_book()\n",
        "from fastbook import *"
      ]
    },
    {
      "cell_type": "markdown",
      "metadata": {},
      "source": [
        "<img src=../images/cf_types.JPG>"
      ]
    },
    {
      "cell_type": "markdown",
      "metadata": {
        "vscode": {
          "languageId": "plaintext"
        }
      },
      "source": [
        "- One very common problem to solve is when you have a number of users and a number of products, and you want to recommend which products are most likely to be useful for which users. \n",
        "There are many variations of this: for example, recommending movies (such as on Netflix), figuring out what to highlight for a user on a home page, deciding what stories to show in a social media feed, and so forth.  \n",
        "Most internet products we use today are powered by recommender systems. YouTube, Netflix, Amazon, Pinterest, and long list of other internet products all rely on recommender systems to filter millions of content and make personalized recommendations to their users.\n",
        "\n",
        "- A Recommender/Recommendation system is an information filtering system that seeks to predict the \"rating\" or \"preference\" a user would give to an item. These systems typically produce a list of recommendations and there are few ways in which it can be done. Two of the most popular ways are – through collaborative filtering or through content-based filtering.\n",
        "\n",
        "\n"
      ]
    },
    {
      "cell_type": "markdown",
      "metadata": {},
      "source": [
        "**Content based**: This approach utilizes a series of discrete characteristics of an item in order to recommend additional items with similar properties. \n",
        "Content-based filtering methods are based on a description of the item and a profile of the user's preferences. \n",
        "for eg, it will suggest you similar movies based on the movie we give (movie name would be the input) or based on all of the movies watched by a user (user is the input). It extracts features of a item and it can also look at the user's history to make the suggestions.\n",
        "\n",
        "**Collaborative based filtering** works like this: look at what products the current user has used or liked, find other users that have used or liked similar products, and then recommend other products that those users have used or liked.\n",
        "\n",
        "For example, on Netflix you may have watched lots of movies that are science fiction, full of action, and were made in the 1970s. Netflix may not know these particular properties of the films you have watched, but it will be able to see that other people that have watched the same movies that you watched also tended to watch other movies that are science fiction, full of action, and were made in the 1970s. In other words, to use this approach we don't necessarily need to know anything about the movies, except who like to watch them.\n",
        "\n",
        "There is actually a more general class of problems that this approach can solve, not necessarily involving users and products. Indeed, for collaborative filtering we more commonly refer to *items*, rather than *products*. Items could be links that people click on, diagnoses that are selected for patients, and so forth.  \n",
        "\n",
        "The key foundational idea is that of *latent factors*. In the Netflix example, we started with the assumption that you like old, action-packed sci-fi movies. But you never actually told Netflix that you like these kinds of movies. And Netflix never actually needed to add columns to its movies table saying which movies are of these types. Still, there must be some underlying concept of sci-fi, action, and movie age, and these concepts must be relevant for at least some people's movie watching decisions."
      ]
    },
    {
      "cell_type": "markdown",
      "metadata": {},
      "source": []
    }
  ],
  "metadata": {
    "accelerator": "GPU",
    "colab": {
      "collapsed_sections": [],
      "include_colab_link": true,
      "name": "lesson_08_collab.ipynb",
      "provenance": [],
      "toc_visible": true
    },
    "interpreter": {
      "hash": "ca7f62864eff38e4957eaf3a1c19f19dddf3402ba5e11dc3e8f11aee37d45e1b"
    },
    "jupytext": {
      "split_at_heading": true
    },
    "kernelspec": {
      "display_name": "Python 3.7.4 ('base')",
      "language": "python",
      "name": "python3"
    },
    "language_info": {
      "codemirror_mode": {
        "name": "ipython",
        "version": 3
      },
      "file_extension": ".py",
      "mimetype": "text/x-python",
      "name": "python",
      "nbconvert_exporter": "python",
      "pygments_lexer": "ipython3",
      "version": "3.7.4"
    }
  },
  "nbformat": 4,
  "nbformat_minor": 0
}
