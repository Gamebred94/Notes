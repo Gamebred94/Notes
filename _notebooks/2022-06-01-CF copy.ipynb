{
  "cells": [
    {
      "cell_type": "markdown",
      "metadata": {},
      "source": [
        "# \"Recommendation systems and Collaborative Filtering\"\n",
        "\n",
        "> \"Demo and Discussion of Collaborative filtering using FastAI\"\n",
        "\n",
        "- toc: true\n",
        "- branch: master\n",
        "- badges: true\n",
        "- comments: true\n",
        "- author: Ashish Gusain\n",
        "- categories: [Recommendation systems, Collaborative filtering, FastAI, Python, Deep learning]"
      ]
    }
  ],
  "metadata": {
    "accelerator": "GPU",
    "colab": {
      "collapsed_sections": [],
      "include_colab_link": true,
      "name": "lesson_08_collab.ipynb",
      "provenance": [],
      "toc_visible": true
    },
    "jupytext": {
      "split_at_heading": true
    },
    "kernelspec": {
      "display_name": "Python 3",
      "language": "python",
      "name": "python3"
    }
  },
  "nbformat": 4,
  "nbformat_minor": 0
}
