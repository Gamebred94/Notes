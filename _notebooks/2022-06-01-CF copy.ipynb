{
  "cells": [
    {
      "cell_type": "markdown",
      "metadata": {},
      "source": [
        "# \"Recommendation systems and Collaborative Filtering\"\n",
        "\n",
        "> \"Demo and Discussion of Collaborative filtering using FastAI\"\n",
        "\n",
        "- toc: true\n",
        "- branch: master\n",
        "- badges: true\n",
        "- comments: true\n",
        "- author: Ashish Gusain\n",
        "- categories: [Recommendation systems, Collaborative filtering, FastAI, Python, Deep learning]"
      ]
    },
    {
      "cell_type": "code",
      "execution_count": null,
      "metadata": {
        "colab": {
          "base_uri": "https://localhost:8080/"
        },
        "id": "GQVLtEKPd2Wy",
        "outputId": "185f01be-4729-4a12-efe0-563566e18704",
        "vscode": {
          "languageId": "python"
        }
      },
      "outputs": [
        {
          "name": "stdout",
          "output_type": "stream",
          "text": [
            "\u001b[K     |████████████████████████████████| 720 kB 12.3 MB/s \n",
            "\u001b[K     |████████████████████████████████| 188 kB 47.0 MB/s \n",
            "\u001b[K     |████████████████████████████████| 1.2 MB 41.1 MB/s \n",
            "\u001b[K     |████████████████████████████████| 60 kB 7.7 MB/s \n",
            "\u001b[?25hMounted at /content/gdrive\n"
          ]
        }
      ],
      "source": [
        "#hide\n",
        "!pip install -Uqq fastbook\n",
        "import fastbook\n",
        "fastbook.setup_book()\n",
        "from fastbook import *"
      ]
    },
    {
      "cell_type": "markdown",
      "metadata": {},
      "source": [
        "One very common problem to solve is when you have a number of users and a number of products, and you want to recommend which products are most likely to be useful for which users. \n",
        "There are many variations of this: for example, recommending movies (such as on Netflix), figuring out what to highlight for a user on a home page, deciding what stories to show in a social media feed, and so forth. \n",
        "\n",
        "A Recommender/Recommendation system is an information filtering system that seeks to predict the \"rating\" or \"preference\" a user would give to an item. These systems typically produce a list of recommendations and there are few ways in which it can be done. Two of the most popular ways are – through collaborative filtering or through content-based filtering.\n",
        "\n",
        "Most internet products we use today are powered by recommender systems. YouTube, Netflix, Amazon, Pinterest, and long list of other internet products all rely on recommender systems to filter millions of contents and make personalized recommendations to their users. Recommender systems are well-studied and proven to provide tremendous values to internet businesses and their consumers\n",
        "\n",
        "There are majorly six types of recommender systems which work primarily in the Media and Entertainment industry:\n",
        "\n",
        "Collaborative Recommender system\n",
        "Content-based recommender system\n",
        "Knowledge based recommender system\n",
        "Hybrid recommender system\n",
        "Demographic based recommender system\n",
        "Utility based recommender system\n",
        "\n",
        "take screenshot again "
      ]
    }
  ],
  "metadata": {
    "accelerator": "GPU",
    "colab": {
      "collapsed_sections": [],
      "include_colab_link": true,
      "name": "lesson_08_collab.ipynb",
      "provenance": [],
      "toc_visible": true
    },
    "jupytext": {
      "split_at_heading": true
    },
    "kernelspec": {
      "display_name": "Python 3",
      "language": "python",
      "name": "python3"
    }
  },
  "nbformat": 4,
  "nbformat_minor": 0
}
